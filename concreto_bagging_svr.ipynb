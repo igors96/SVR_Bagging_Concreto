{
  "metadata": {
    "kernelspec": {
      "language": "python",
      "display_name": "Python 3",
      "name": "python3"
    },
    "language_info": {
      "pygments_lexer": "ipython3",
      "nbconvert_exporter": "python",
      "version": "3.6.4",
      "file_extension": ".py",
      "codemirror_mode": {
        "name": "ipython",
        "version": 3
      },
      "name": "python",
      "mimetype": "text/x-python"
    },
    "colab": {
      "provenance": [],
      "include_colab_link": true
    }
  },
  "nbformat_minor": 0,
  "nbformat": 4,
  "cells": [
    {
      "cell_type": "markdown",
      "metadata": {
        "id": "view-in-github",
        "colab_type": "text"
      },
      "source": [
        "<a href=\"https://colab.research.google.com/github/igors96/SVR_Bagging_Concreto/blob/main/concreto_bagging_svr.ipynb\" target=\"_parent\"><img src=\"https://colab.research.google.com/assets/colab-badge.svg\" alt=\"Open In Colab\"/></a>"
      ]
    },
    {
      "cell_type": "code",
      "source": [
        "import pandas as pd\n",
        "arquivo = pd.read_csv('/content/Concrete Compressive Strength.csv')\n",
        "arquivo.head()"
      ],
      "metadata": {
        "execution": {
          "iopub.status.busy": "2022-10-20T20:28:48.200400Z",
          "iopub.execute_input": "2022-10-20T20:28:48.201610Z",
          "iopub.status.idle": "2022-10-20T20:28:48.265188Z",
          "shell.execute_reply.started": "2022-10-20T20:28:48.201481Z",
          "shell.execute_reply": "2022-10-20T20:28:48.264189Z"
        },
        "trusted": true,
        "colab": {
          "base_uri": "https://localhost:8080/",
          "height": 354
        },
        "id": "D5G26zTodo4y",
        "outputId": "28fdc1ee-9b5d-4cd6-ba7f-c81f1e070836"
      },
      "execution_count": 1,
      "outputs": [
        {
          "output_type": "execute_result",
          "data": {
            "text/plain": [
              "   Cement (component 1)(kg in a m^3 mixture)  \\\n",
              "0                                      540.0   \n",
              "1                                      540.0   \n",
              "2                                      332.5   \n",
              "3                                      332.5   \n",
              "4                                      198.6   \n",
              "\n",
              "   Blast Furnace Slag (component 2)(kg in a m^3 mixture)  \\\n",
              "0                                                0.0       \n",
              "1                                                0.0       \n",
              "2                                              142.5       \n",
              "3                                              142.5       \n",
              "4                                              132.4       \n",
              "\n",
              "   Fly Ash (component 3)(kg in a m^3 mixture)  \\\n",
              "0                                         0.0   \n",
              "1                                         0.0   \n",
              "2                                         0.0   \n",
              "3                                         0.0   \n",
              "4                                         0.0   \n",
              "\n",
              "   Water  (component 4)(kg in a m^3 mixture)  \\\n",
              "0                                      162.0   \n",
              "1                                      162.0   \n",
              "2                                      228.0   \n",
              "3                                      228.0   \n",
              "4                                      192.0   \n",
              "\n",
              "   Superplasticizer (component 5)(kg in a m^3 mixture)  \\\n",
              "0                                                2.5     \n",
              "1                                                2.5     \n",
              "2                                                0.0     \n",
              "3                                                0.0     \n",
              "4                                                0.0     \n",
              "\n",
              "   Coarse Aggregate  (component 6)(kg in a m^3 mixture)  \\\n",
              "0                                             1040.0      \n",
              "1                                             1055.0      \n",
              "2                                              932.0      \n",
              "3                                              932.0      \n",
              "4                                              978.4      \n",
              "\n",
              "   Fine Aggregate (component 7)(kg in a m^3 mixture)  Age (day)  \\\n",
              "0                                              676.0         28   \n",
              "1                                              676.0         28   \n",
              "2                                              594.0        270   \n",
              "3                                              594.0        365   \n",
              "4                                              825.5        360   \n",
              "\n",
              "   Concrete compressive strength(MPa, megapascals)   \n",
              "0                                         79.986111  \n",
              "1                                         61.887366  \n",
              "2                                         40.269535  \n",
              "3                                         41.052780  \n",
              "4                                         44.296075  "
            ],
            "text/html": [
              "\n",
              "  <div id=\"df-deffba11-bca6-4e46-a968-938c391b856d\">\n",
              "    <div class=\"colab-df-container\">\n",
              "      <div>\n",
              "<style scoped>\n",
              "    .dataframe tbody tr th:only-of-type {\n",
              "        vertical-align: middle;\n",
              "    }\n",
              "\n",
              "    .dataframe tbody tr th {\n",
              "        vertical-align: top;\n",
              "    }\n",
              "\n",
              "    .dataframe thead th {\n",
              "        text-align: right;\n",
              "    }\n",
              "</style>\n",
              "<table border=\"1\" class=\"dataframe\">\n",
              "  <thead>\n",
              "    <tr style=\"text-align: right;\">\n",
              "      <th></th>\n",
              "      <th>Cement (component 1)(kg in a m^3 mixture)</th>\n",
              "      <th>Blast Furnace Slag (component 2)(kg in a m^3 mixture)</th>\n",
              "      <th>Fly Ash (component 3)(kg in a m^3 mixture)</th>\n",
              "      <th>Water  (component 4)(kg in a m^3 mixture)</th>\n",
              "      <th>Superplasticizer (component 5)(kg in a m^3 mixture)</th>\n",
              "      <th>Coarse Aggregate  (component 6)(kg in a m^3 mixture)</th>\n",
              "      <th>Fine Aggregate (component 7)(kg in a m^3 mixture)</th>\n",
              "      <th>Age (day)</th>\n",
              "      <th>Concrete compressive strength(MPa, megapascals)</th>\n",
              "    </tr>\n",
              "  </thead>\n",
              "  <tbody>\n",
              "    <tr>\n",
              "      <th>0</th>\n",
              "      <td>540.0</td>\n",
              "      <td>0.0</td>\n",
              "      <td>0.0</td>\n",
              "      <td>162.0</td>\n",
              "      <td>2.5</td>\n",
              "      <td>1040.0</td>\n",
              "      <td>676.0</td>\n",
              "      <td>28</td>\n",
              "      <td>79.986111</td>\n",
              "    </tr>\n",
              "    <tr>\n",
              "      <th>1</th>\n",
              "      <td>540.0</td>\n",
              "      <td>0.0</td>\n",
              "      <td>0.0</td>\n",
              "      <td>162.0</td>\n",
              "      <td>2.5</td>\n",
              "      <td>1055.0</td>\n",
              "      <td>676.0</td>\n",
              "      <td>28</td>\n",
              "      <td>61.887366</td>\n",
              "    </tr>\n",
              "    <tr>\n",
              "      <th>2</th>\n",
              "      <td>332.5</td>\n",
              "      <td>142.5</td>\n",
              "      <td>0.0</td>\n",
              "      <td>228.0</td>\n",
              "      <td>0.0</td>\n",
              "      <td>932.0</td>\n",
              "      <td>594.0</td>\n",
              "      <td>270</td>\n",
              "      <td>40.269535</td>\n",
              "    </tr>\n",
              "    <tr>\n",
              "      <th>3</th>\n",
              "      <td>332.5</td>\n",
              "      <td>142.5</td>\n",
              "      <td>0.0</td>\n",
              "      <td>228.0</td>\n",
              "      <td>0.0</td>\n",
              "      <td>932.0</td>\n",
              "      <td>594.0</td>\n",
              "      <td>365</td>\n",
              "      <td>41.052780</td>\n",
              "    </tr>\n",
              "    <tr>\n",
              "      <th>4</th>\n",
              "      <td>198.6</td>\n",
              "      <td>132.4</td>\n",
              "      <td>0.0</td>\n",
              "      <td>192.0</td>\n",
              "      <td>0.0</td>\n",
              "      <td>978.4</td>\n",
              "      <td>825.5</td>\n",
              "      <td>360</td>\n",
              "      <td>44.296075</td>\n",
              "    </tr>\n",
              "  </tbody>\n",
              "</table>\n",
              "</div>\n",
              "      <button class=\"colab-df-convert\" onclick=\"convertToInteractive('df-deffba11-bca6-4e46-a968-938c391b856d')\"\n",
              "              title=\"Convert this dataframe to an interactive table.\"\n",
              "              style=\"display:none;\">\n",
              "        \n",
              "  <svg xmlns=\"http://www.w3.org/2000/svg\" height=\"24px\"viewBox=\"0 0 24 24\"\n",
              "       width=\"24px\">\n",
              "    <path d=\"M0 0h24v24H0V0z\" fill=\"none\"/>\n",
              "    <path d=\"M18.56 5.44l.94 2.06.94-2.06 2.06-.94-2.06-.94-.94-2.06-.94 2.06-2.06.94zm-11 1L8.5 8.5l.94-2.06 2.06-.94-2.06-.94L8.5 2.5l-.94 2.06-2.06.94zm10 10l.94 2.06.94-2.06 2.06-.94-2.06-.94-.94-2.06-.94 2.06-2.06.94z\"/><path d=\"M17.41 7.96l-1.37-1.37c-.4-.4-.92-.59-1.43-.59-.52 0-1.04.2-1.43.59L10.3 9.45l-7.72 7.72c-.78.78-.78 2.05 0 2.83L4 21.41c.39.39.9.59 1.41.59.51 0 1.02-.2 1.41-.59l7.78-7.78 2.81-2.81c.8-.78.8-2.07 0-2.86zM5.41 20L4 18.59l7.72-7.72 1.47 1.35L5.41 20z\"/>\n",
              "  </svg>\n",
              "      </button>\n",
              "      \n",
              "  <style>\n",
              "    .colab-df-container {\n",
              "      display:flex;\n",
              "      flex-wrap:wrap;\n",
              "      gap: 12px;\n",
              "    }\n",
              "\n",
              "    .colab-df-convert {\n",
              "      background-color: #E8F0FE;\n",
              "      border: none;\n",
              "      border-radius: 50%;\n",
              "      cursor: pointer;\n",
              "      display: none;\n",
              "      fill: #1967D2;\n",
              "      height: 32px;\n",
              "      padding: 0 0 0 0;\n",
              "      width: 32px;\n",
              "    }\n",
              "\n",
              "    .colab-df-convert:hover {\n",
              "      background-color: #E2EBFA;\n",
              "      box-shadow: 0px 1px 2px rgba(60, 64, 67, 0.3), 0px 1px 3px 1px rgba(60, 64, 67, 0.15);\n",
              "      fill: #174EA6;\n",
              "    }\n",
              "\n",
              "    [theme=dark] .colab-df-convert {\n",
              "      background-color: #3B4455;\n",
              "      fill: #D2E3FC;\n",
              "    }\n",
              "\n",
              "    [theme=dark] .colab-df-convert:hover {\n",
              "      background-color: #434B5C;\n",
              "      box-shadow: 0px 1px 3px 1px rgba(0, 0, 0, 0.15);\n",
              "      filter: drop-shadow(0px 1px 2px rgba(0, 0, 0, 0.3));\n",
              "      fill: #FFFFFF;\n",
              "    }\n",
              "  </style>\n",
              "\n",
              "      <script>\n",
              "        const buttonEl =\n",
              "          document.querySelector('#df-deffba11-bca6-4e46-a968-938c391b856d button.colab-df-convert');\n",
              "        buttonEl.style.display =\n",
              "          google.colab.kernel.accessAllowed ? 'block' : 'none';\n",
              "\n",
              "        async function convertToInteractive(key) {\n",
              "          const element = document.querySelector('#df-deffba11-bca6-4e46-a968-938c391b856d');\n",
              "          const dataTable =\n",
              "            await google.colab.kernel.invokeFunction('convertToInteractive',\n",
              "                                                     [key], {});\n",
              "          if (!dataTable) return;\n",
              "\n",
              "          const docLinkHtml = 'Like what you see? Visit the ' +\n",
              "            '<a target=\"_blank\" href=https://colab.research.google.com/notebooks/data_table.ipynb>data table notebook</a>'\n",
              "            + ' to learn more about interactive tables.';\n",
              "          element.innerHTML = '';\n",
              "          dataTable['output_type'] = 'display_data';\n",
              "          await google.colab.output.renderOutput(dataTable, element);\n",
              "          const docLink = document.createElement('div');\n",
              "          docLink.innerHTML = docLinkHtml;\n",
              "          element.appendChild(docLink);\n",
              "        }\n",
              "      </script>\n",
              "    </div>\n",
              "  </div>\n",
              "  "
            ]
          },
          "metadata": {},
          "execution_count": 1
        }
      ]
    },
    {
      "cell_type": "code",
      "source": [
        "faltantes = arquivo.isnull().sum()\n",
        "faltantes_percentual = (faltantes/len(arquivo['Age (day)']))*100\n",
        "print(faltantes_percentual)"
      ],
      "metadata": {
        "execution": {
          "iopub.status.busy": "2022-10-20T20:28:48.267368Z",
          "iopub.execute_input": "2022-10-20T20:28:48.267694Z",
          "iopub.status.idle": "2022-10-20T20:28:48.277970Z",
          "shell.execute_reply.started": "2022-10-20T20:28:48.267656Z",
          "shell.execute_reply": "2022-10-20T20:28:48.277142Z"
        },
        "trusted": true,
        "colab": {
          "base_uri": "https://localhost:8080/"
        },
        "id": "xiaqbSmPdo46",
        "outputId": "92232eb7-ea51-469f-ad41-473554eef07d"
      },
      "execution_count": 2,
      "outputs": [
        {
          "output_type": "stream",
          "name": "stdout",
          "text": [
            "Cement (component 1)(kg in a m^3 mixture)                0.0\n",
            "Blast Furnace Slag (component 2)(kg in a m^3 mixture)    0.0\n",
            "Fly Ash (component 3)(kg in a m^3 mixture)               0.0\n",
            "Water  (component 4)(kg in a m^3 mixture)                0.0\n",
            "Superplasticizer (component 5)(kg in a m^3 mixture)      0.0\n",
            "Coarse Aggregate  (component 6)(kg in a m^3 mixture)     0.0\n",
            "Fine Aggregate (component 7)(kg in a m^3 mixture)        0.0\n",
            "Age (day)                                                0.0\n",
            "Concrete compressive strength(MPa, megapascals)          0.0\n",
            "dtype: float64\n"
          ]
        }
      ]
    },
    {
      "cell_type": "code",
      "source": [
        "x = arquivo.drop('Concrete compressive strength(MPa, megapascals) ', axis = 1)\n",
        "y = arquivo['Concrete compressive strength(MPa, megapascals) ']"
      ],
      "metadata": {
        "execution": {
          "iopub.status.busy": "2022-10-20T20:28:48.279388Z",
          "iopub.execute_input": "2022-10-20T20:28:48.280156Z",
          "iopub.status.idle": "2022-10-20T20:28:48.294485Z",
          "shell.execute_reply.started": "2022-10-20T20:28:48.280121Z",
          "shell.execute_reply": "2022-10-20T20:28:48.293514Z"
        },
        "trusted": true,
        "id": "UDzNm_I1do48"
      },
      "execution_count": 3,
      "outputs": []
    },
    {
      "cell_type": "code",
      "source": [
        "from sklearn.ensemble import BaggingRegressor\n",
        "from sklearn.model_selection import KFold\n",
        "from sklearn.model_selection import cross_val_score\n",
        "\n",
        "modelo = BaggingRegressor(n_estimators = 100, max_samples = 0.5, n_jobs = -1)\n",
        "kfold = KFold(n_splits = 3, shuffle = True)\n",
        "resultado = cross_val_score(modelo,x,y,cv = kfold, n_jobs = -1)\n",
        "print(resultado.mean())"
      ],
      "metadata": {
        "execution": {
          "iopub.status.busy": "2022-10-20T20:28:48.296329Z",
          "iopub.execute_input": "2022-10-20T20:28:48.296619Z",
          "iopub.status.idle": "2022-10-20T20:28:52.233538Z",
          "shell.execute_reply.started": "2022-10-20T20:28:48.296588Z",
          "shell.execute_reply": "2022-10-20T20:28:52.232573Z"
        },
        "trusted": true,
        "colab": {
          "base_uri": "https://localhost:8080/"
        },
        "id": "IbWI6n-0do49",
        "outputId": "c4eb1414-ea66-459f-e463-baf93311c64a"
      },
      "execution_count": 4,
      "outputs": [
        {
          "output_type": "stream",
          "name": "stdout",
          "text": [
            "0.8862231753116937\n"
          ]
        }
      ]
    },
    {
      "cell_type": "code",
      "source": [
        "from sklearn.ensemble import GradientBoostingRegressor\n",
        "from sklearn.model_selection import KFold\n",
        "from sklearn.model_selection import cross_val_score\n",
        "\n",
        "modelo1 = BaggingRegressor(base_estimator = GradientBoostingRegressor(n_estimators = 100), n_estimators = 100, max_samples = 0.5, n_jobs = -1)\n",
        "kfold1 = KFold(n_splits = 3, shuffle = True)\n",
        "resultado1 = cross_val_score(modelo1,x,y,cv = kfold1, n_jobs = -1)\n",
        "print(resultado1.mean())"
      ],
      "metadata": {
        "execution": {
          "iopub.status.busy": "2022-10-20T20:28:52.235109Z",
          "iopub.execute_input": "2022-10-20T20:28:52.235414Z",
          "iopub.status.idle": "2022-10-20T20:29:03.403220Z",
          "shell.execute_reply.started": "2022-10-20T20:28:52.235374Z",
          "shell.execute_reply": "2022-10-20T20:29:03.402280Z"
        },
        "trusted": true,
        "colab": {
          "base_uri": "https://localhost:8080/"
        },
        "id": "IxxeNVjkdo4-",
        "outputId": "d23cbf0d-84fe-4742-cb29-27d10a6827f2"
      },
      "execution_count": 5,
      "outputs": [
        {
          "output_type": "stream",
          "name": "stdout",
          "text": [
            "0.8869736845059829\n"
          ]
        }
      ]
    },
    {
      "cell_type": "code",
      "source": [
        "from sklearn.ensemble import GradientBoostingRegressor\n",
        "from sklearn.model_selection import KFold\n",
        "from sklearn.model_selection import cross_val_score\n",
        "\n",
        "modelo2 = BaggingRegressor(base_estimator = GradientBoostingRegressor(n_estimators = 100), n_estimators = 100, max_samples = 0.5, n_jobs = -1)\n",
        "kfold2 = KFold(n_splits = 3, shuffle = True)\n",
        "resultado2 = cross_val_score(modelo2,x,y,cv = kfold2, n_jobs = -1, scoring = 'neg_mean_absolute_error')\n",
        "print(resultado2.mean())"
      ],
      "metadata": {
        "execution": {
          "iopub.status.busy": "2022-10-20T20:29:03.404495Z",
          "iopub.execute_input": "2022-10-20T20:29:03.404778Z",
          "iopub.status.idle": "2022-10-20T20:29:13.398966Z",
          "shell.execute_reply.started": "2022-10-20T20:29:03.404741Z",
          "shell.execute_reply": "2022-10-20T20:29:13.398063Z"
        },
        "trusted": true,
        "colab": {
          "base_uri": "https://localhost:8080/"
        },
        "id": "W-ppa2SGdo4_",
        "outputId": "f79fcfca-ad1c-4c4c-a82c-342a391d3f9f"
      },
      "execution_count": 6,
      "outputs": [
        {
          "output_type": "stream",
          "name": "stdout",
          "text": [
            "-4.083218244349219\n"
          ]
        }
      ]
    },
    {
      "cell_type": "code",
      "source": [
        "from sklearn.svm import SVR\n",
        "from sklearn.model_selection import KFold\n",
        "from sklearn.model_selection import cross_val_score\n",
        "from sklearn.preprocessing import MinMaxScaler\n",
        "\n",
        "normalizador = MinMaxScaler(feature_range = (0,1))\n",
        "x_norm = normalizador.fit_transform(x)\n",
        "\n",
        "modelo3 = SVR()\n",
        "kfold3 = KFold(n_splits = 3, shuffle = True)\n",
        "resultado3 = cross_val_score(modelo3,x_norm,y,cv = kfold3, n_jobs = -1)\n",
        "print(resultado3.mean())"
      ],
      "metadata": {
        "execution": {
          "iopub.status.busy": "2022-10-20T20:29:13.400150Z",
          "iopub.execute_input": "2022-10-20T20:29:13.400626Z",
          "iopub.status.idle": "2022-10-20T20:29:13.484613Z",
          "shell.execute_reply.started": "2022-10-20T20:29:13.400593Z",
          "shell.execute_reply": "2022-10-20T20:29:13.483670Z"
        },
        "trusted": true,
        "colab": {
          "base_uri": "https://localhost:8080/"
        },
        "id": "M240CXtxdo5A",
        "outputId": "9248acf1-d385-471b-aed5-e40c7dafa7db"
      },
      "execution_count": 7,
      "outputs": [
        {
          "output_type": "stream",
          "name": "stdout",
          "text": [
            "0.5720078559810652\n"
          ]
        }
      ]
    },
    {
      "cell_type": "code",
      "source": [
        "import numpy as np\n",
        "from sklearn.model_selection import GridSearchCV\n",
        "\n",
        "c = np.array([1.0,0.95,1.05,1.1,1.2,2,0.9,0.8])\n",
        "kernel = ['linear', 'poly', 'rbf', 'sigmoid']\n",
        "polinomio = np.array([2,3,4])\n",
        "epsilon = np.array([0.1,0.2,0.05])\n",
        "valores_grid = {'C': c, 'kernel': kernel, 'degree': polinomio, 'epsilon': epsilon}\n",
        "\n",
        "modelo4 = SVR()\n",
        "\n",
        "kfold = KFold(n_splits = 3, shuffle = True)\n",
        "gridSVM = GridSearchCV(estimator = modelo4, param_grid = valores_grid, cv = kfold, n_jobs = -1)\n",
        "gridSVM.fit(x_norm, y)\n",
        "\n",
        "print('Melhor valor constante: ', gridSVM.best_estimator_.C)\n",
        "print('Melhor kernel: ', gridSVM.best_estimator_.kernel)\n",
        "print('Melhor grau polinômio: ', gridSVM.best_estimator_.degree)\n",
        "print('Melhor epsilon: ', gridSVM.best_estimator_.epsilon)\n",
        "print('R2: ', gridSVM.best_score_)"
      ],
      "metadata": {
        "execution": {
          "iopub.status.busy": "2022-10-20T20:29:13.485663Z",
          "iopub.execute_input": "2022-10-20T20:29:13.485870Z",
          "iopub.status.idle": "2022-10-20T20:29:27.635794Z",
          "shell.execute_reply.started": "2022-10-20T20:29:13.485846Z",
          "shell.execute_reply": "2022-10-20T20:29:27.634805Z"
        },
        "trusted": true,
        "colab": {
          "base_uri": "https://localhost:8080/"
        },
        "id": "8Y4jM4npdo5D",
        "outputId": "d9fa382d-8659-4b98-896e-c3430aca00b4"
      },
      "execution_count": 8,
      "outputs": [
        {
          "output_type": "stream",
          "name": "stdout",
          "text": [
            "Melhor valor constante:  2.0\n",
            "Melhor kernel:  poly\n",
            "Melhor grau polinômio:  4\n",
            "Melhor epsilon:  0.2\n",
            "R2:  0.8126688339007119\n"
          ]
        }
      ]
    }
  ]
}